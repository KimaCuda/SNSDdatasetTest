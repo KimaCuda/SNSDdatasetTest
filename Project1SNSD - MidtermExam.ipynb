{
 "cells": [
  {
   "cell_type": "code",
   "execution_count": 1,
   "metadata": {},
   "outputs": [],
   "source": [
    "import numpy as np\n",
    "import pandas as pd\n",
    "import matplotlib.pyplot as plt\n",
    "import matplotlib.dates as mdates\n",
    "import datetime"
   ]
  },
  {
   "cell_type": "code",
   "execution_count": 2,
   "metadata": {},
   "outputs": [],
   "source": [
    "SNSD = pd.read_csv('girlgeneration(utf8).csv')"
   ]
  },
  {
   "cell_type": "code",
   "execution_count": 3,
   "metadata": {},
   "outputs": [
    {
     "data": {
      "text/html": [
       "<div>\n",
       "<style scoped>\n",
       "    .dataframe tbody tr th:only-of-type {\n",
       "        vertical-align: middle;\n",
       "    }\n",
       "\n",
       "    .dataframe tbody tr th {\n",
       "        vertical-align: top;\n",
       "    }\n",
       "\n",
       "    .dataframe thead th {\n",
       "        text-align: right;\n",
       "    }\n",
       "</style>\n",
       "<table border=\"1\" class=\"dataframe\">\n",
       "  <thead>\n",
       "    <tr style=\"text-align: right;\">\n",
       "      <th></th>\n",
       "      <th>SERIAL_ID</th>\n",
       "      <th>ORDER_ID</th>\n",
       "      <th>TICKET_ITEM_ID</th>\n",
       "      <th>PRINT_TIMES</th>\n",
       "      <th>IDENTITY</th>\n",
       "      <th>PROGRAM_ID</th>\n",
       "      <th>PROGRAM_NAME</th>\n",
       "      <th>CREATE_DATE</th>\n",
       "      <th>PLAY_DATE</th>\n",
       "      <th>PLAY_TIME</th>\n",
       "      <th>...</th>\n",
       "      <th>SHIPPING_COUNTRY_ID1</th>\n",
       "      <th>SHIPPING_TOWN_ID1</th>\n",
       "      <th>RECEIPT_TITLE</th>\n",
       "      <th>SHIPPING_COUNTRY_ID2</th>\n",
       "      <th>SHIPPING_TOWN_ID2</th>\n",
       "      <th>SHIPPING_ZIP2</th>\n",
       "      <th>ORDER_NUM</th>\n",
       "      <th>TICKET_ENTRANCE_NO</th>\n",
       "      <th>SEX</th>\n",
       "      <th>ADDRESS</th>\n",
       "    </tr>\n",
       "  </thead>\n",
       "  <tbody>\n",
       "    <tr>\n",
       "      <th>0</th>\n",
       "      <td>331</td>\n",
       "      <td>26237</td>\n",
       "      <td>52196</td>\n",
       "      <td>2</td>\n",
       "      <td>K12197</td>\n",
       "      <td>11</td>\n",
       "      <td>Girls Generation. THE lst ASIA TOUR Into the n...</td>\n",
       "      <td>2010/10/14 p.m. 11:25:58.</td>\n",
       "      <td>2010/10/17</td>\n",
       "      <td>15:00</td>\n",
       "      <td>...</td>\n",
       "      <td>1</td>\n",
       "      <td>10</td>\n",
       "      <td>NaN</td>\n",
       "      <td>5</td>\n",
       "      <td>61</td>\n",
       "      <td>300.0</td>\n",
       "      <td>26237</td>\n",
       "      <td>0</td>\n",
       "      <td>male</td>\n",
       "      <td>2103</td>\n",
       "    </tr>\n",
       "    <tr>\n",
       "      <th>1</th>\n",
       "      <td>332</td>\n",
       "      <td>26237</td>\n",
       "      <td>52195</td>\n",
       "      <td>2</td>\n",
       "      <td>K12197</td>\n",
       "      <td>11</td>\n",
       "      <td>Girls Generation. THE lst ASIA TOUR Into the n...</td>\n",
       "      <td>2010/10/14 p.m. 11:25:58.</td>\n",
       "      <td>2010/10/17</td>\n",
       "      <td>15:00</td>\n",
       "      <td>...</td>\n",
       "      <td>1</td>\n",
       "      <td>10</td>\n",
       "      <td>NaN</td>\n",
       "      <td>5</td>\n",
       "      <td>61</td>\n",
       "      <td>300.0</td>\n",
       "      <td>26237</td>\n",
       "      <td>0</td>\n",
       "      <td>male</td>\n",
       "      <td>2103</td>\n",
       "    </tr>\n",
       "    <tr>\n",
       "      <th>2</th>\n",
       "      <td>378</td>\n",
       "      <td>24923</td>\n",
       "      <td>46903</td>\n",
       "      <td>3</td>\n",
       "      <td>L22289</td>\n",
       "      <td>11</td>\n",
       "      <td>Girls Generation. THE lst ASIA TOUR Into the n...</td>\n",
       "      <td>2010/9/18 p.m. 11:26:37.</td>\n",
       "      <td>2010/10/17</td>\n",
       "      <td>15:00</td>\n",
       "      <td>...</td>\n",
       "      <td>10</td>\n",
       "      <td>129</td>\n",
       "      <td>NaN</td>\n",
       "      <td>10</td>\n",
       "      <td>129</td>\n",
       "      <td>434.0</td>\n",
       "      <td>24923</td>\n",
       "      <td>0</td>\n",
       "      <td>male</td>\n",
       "      <td>2682</td>\n",
       "    </tr>\n",
       "    <tr>\n",
       "      <th>3</th>\n",
       "      <td>379</td>\n",
       "      <td>24923</td>\n",
       "      <td>46902</td>\n",
       "      <td>3</td>\n",
       "      <td>L22289</td>\n",
       "      <td>11</td>\n",
       "      <td>Girls Generation. THE lst ASIA TOUR Into the n...</td>\n",
       "      <td>2010/9/18 p.m. 11:26:37.</td>\n",
       "      <td>2010/10/17</td>\n",
       "      <td>15:00</td>\n",
       "      <td>...</td>\n",
       "      <td>10</td>\n",
       "      <td>129</td>\n",
       "      <td>NaN</td>\n",
       "      <td>10</td>\n",
       "      <td>129</td>\n",
       "      <td>434.0</td>\n",
       "      <td>24923</td>\n",
       "      <td>0</td>\n",
       "      <td>male</td>\n",
       "      <td>2682</td>\n",
       "    </tr>\n",
       "    <tr>\n",
       "      <th>4</th>\n",
       "      <td>586</td>\n",
       "      <td>24930</td>\n",
       "      <td>46919</td>\n",
       "      <td>4</td>\n",
       "      <td>C12101</td>\n",
       "      <td>11</td>\n",
       "      <td>Girls Generation. THE lst ASIA TOUR Into the n...</td>\n",
       "      <td>2010/9/18 p.m. 11:28:56.</td>\n",
       "      <td>2010/10/17</td>\n",
       "      <td>15:00</td>\n",
       "      <td>...</td>\n",
       "      <td>2</td>\n",
       "      <td>14</td>\n",
       "      <td>NaN</td>\n",
       "      <td>2</td>\n",
       "      <td>14</td>\n",
       "      <td>201.0</td>\n",
       "      <td>24930</td>\n",
       "      <td>0</td>\n",
       "      <td>male</td>\n",
       "      <td>718</td>\n",
       "    </tr>\n",
       "  </tbody>\n",
       "</table>\n",
       "<p>5 rows × 30 columns</p>\n",
       "</div>"
      ],
      "text/plain": [
       "   SERIAL_ID  ORDER_ID  TICKET_ITEM_ID  PRINT_TIMES IDENTITY  PROGRAM_ID  \\\n",
       "0        331     26237           52196            2   K12197          11   \n",
       "1        332     26237           52195            2   K12197          11   \n",
       "2        378     24923           46903            3   L22289          11   \n",
       "3        379     24923           46902            3   L22289          11   \n",
       "4        586     24930           46919            4   C12101          11   \n",
       "\n",
       "                                        PROGRAM_NAME  \\\n",
       "0  Girls Generation. THE lst ASIA TOUR Into the n...   \n",
       "1  Girls Generation. THE lst ASIA TOUR Into the n...   \n",
       "2  Girls Generation. THE lst ASIA TOUR Into the n...   \n",
       "3  Girls Generation. THE lst ASIA TOUR Into the n...   \n",
       "4  Girls Generation. THE lst ASIA TOUR Into the n...   \n",
       "\n",
       "                 CREATE_DATE   PLAY_DATE PLAY_TIME   ...     \\\n",
       "0  2010/10/14 p.m. 11:25:58.  2010/10/17     15:00   ...      \n",
       "1  2010/10/14 p.m. 11:25:58.  2010/10/17     15:00   ...      \n",
       "2   2010/9/18 p.m. 11:26:37.  2010/10/17     15:00   ...      \n",
       "3   2010/9/18 p.m. 11:26:37.  2010/10/17     15:00   ...      \n",
       "4   2010/9/18 p.m. 11:28:56.  2010/10/17     15:00   ...      \n",
       "\n",
       "   SHIPPING_COUNTRY_ID1  SHIPPING_TOWN_ID1 RECEIPT_TITLE SHIPPING_COUNTRY_ID2  \\\n",
       "0                     1                 10           NaN                    5   \n",
       "1                     1                 10           NaN                    5   \n",
       "2                    10                129           NaN                   10   \n",
       "3                    10                129           NaN                   10   \n",
       "4                     2                 14           NaN                    2   \n",
       "\n",
       "   SHIPPING_TOWN_ID2  SHIPPING_ZIP2  ORDER_NUM  TICKET_ENTRANCE_NO   SEX  \\\n",
       "0                 61          300.0      26237                   0  male   \n",
       "1                 61          300.0      26237                   0  male   \n",
       "2                129          434.0      24923                   0  male   \n",
       "3                129          434.0      24923                   0  male   \n",
       "4                 14          201.0      24930                   0  male   \n",
       "\n",
       "   ADDRESS  \n",
       "0     2103  \n",
       "1     2103  \n",
       "2     2682  \n",
       "3     2682  \n",
       "4      718  \n",
       "\n",
       "[5 rows x 30 columns]"
      ]
     },
     "execution_count": 3,
     "metadata": {},
     "output_type": "execute_result"
    }
   ],
   "source": [
    "SNSD.head()"
   ]
  },
  {
   "cell_type": "code",
   "execution_count": 4,
   "metadata": {},
   "outputs": [],
   "source": [
    "#splitting date\n",
    "SNSD['date1'], SNSD['date2'], SNSD['date3'] = SNSD['CREATE_DATE'].str.split(' ', 2).str"
   ]
  },
  {
   "cell_type": "code",
   "execution_count": 5,
   "metadata": {},
   "outputs": [],
   "source": [
    "SNSD['mydate'] = (SNSD['date1'] + ' ' + SNSD['date3'])"
   ]
  },
  {
   "cell_type": "code",
   "execution_count": 6,
   "metadata": {},
   "outputs": [],
   "source": [
    "SNSD['mydate'] = pd.to_datetime(SNSD.mydate)"
   ]
  },
  {
   "cell_type": "code",
   "execution_count": 7,
   "metadata": {},
   "outputs": [],
   "source": [
    "a = SNSD.loc[SNSD['date2'] == 'p.m.']['mydate'] + pd.Timedelta(hours=12)"
   ]
  },
  {
   "cell_type": "code",
   "execution_count": 8,
   "metadata": {},
   "outputs": [],
   "source": [
    "SNSD['mydate'].update(a)"
   ]
  },
  {
   "cell_type": "code",
   "execution_count": 9,
   "metadata": {},
   "outputs": [],
   "source": [
    "#SEPARATING DATA A and B"
   ]
  },
  {
   "cell_type": "code",
   "execution_count": 10,
   "metadata": {},
   "outputs": [],
   "source": [
    "SNSD = SNSD.drop(columns = ['PROGRAM_ID', 'PROGRAM_NAME', 'CREATE_DATE', 'date1', 'date2', 'date3'])"
   ]
  },
  {
   "cell_type": "code",
   "execution_count": 11,
   "metadata": {},
   "outputs": [],
   "source": [
    "SNSD = SNSD.sort_values('mydate').reset_index(drop=True)"
   ]
  },
  {
   "cell_type": "code",
   "execution_count": 12,
   "metadata": {},
   "outputs": [],
   "source": [
    "SNSD_A = SNSD.loc[SNSD['SEAT_ROW'].notnull()]"
   ]
  },
  {
   "cell_type": "code",
   "execution_count": 13,
   "metadata": {},
   "outputs": [],
   "source": [
    "SNSD_B = SNSD.loc[SNSD['SEAT_ROW'].isnull()]"
   ]
  },
  {
   "cell_type": "code",
   "execution_count": 14,
   "metadata": {},
   "outputs": [
    {
     "data": {
      "text/plain": [
       "(5400, 28)"
      ]
     },
     "execution_count": 14,
     "metadata": {},
     "output_type": "execute_result"
    }
   ],
   "source": [
    "SNSD_A.shape"
   ]
  },
  {
   "cell_type": "code",
   "execution_count": 15,
   "metadata": {},
   "outputs": [
    {
     "data": {
      "text/plain": [
       "(1669, 28)"
      ]
     },
     "execution_count": 15,
     "metadata": {},
     "output_type": "execute_result"
    }
   ],
   "source": [
    "SNSD_B.shape"
   ]
  },
  {
   "cell_type": "code",
   "execution_count": 16,
   "metadata": {},
   "outputs": [],
   "source": [
    "#SEPARATING T1 and T2 of A and B"
   ]
  },
  {
   "cell_type": "code",
   "execution_count": 17,
   "metadata": {},
   "outputs": [],
   "source": [
    "mask_A_T1 = (SNSD_A['mydate'] >= '2010-09-18 12:00:00') & (SNSD_A['mydate'] <= '2010-09-18 16:00:00')\n",
    "mask_B_T1 = (SNSD_B['mydate'] >= '2010-09-18 12:00:00') & (SNSD_B['mydate'] <= '2010-09-18 16:00:00')\n",
    "mask_A_T2 = (SNSD_A['mydate'] >= '2010-09-18 16:00:00') & (SNSD_A['mydate'] <= '2010-09-18 20:00:00')\n",
    "mask_B_T2 = (SNSD_B['mydate'] >= '2010-09-18 16:00:00') & (SNSD_B['mydate'] <= '2010-09-18 20:00:00')\n",
    "SNSD_A_T1 = SNSD_A.loc[mask_A_T1]\n",
    "SNSD_B_T1 = SNSD_B.loc[mask_B_T1]\n",
    "SNSD_A_T2 = SNSD_A.loc[mask_A_T2]\n",
    "SNSD_B_T2 = SNSD_B.loc[mask_B_T2]"
   ]
  },
  {
   "cell_type": "code",
   "execution_count": 18,
   "metadata": {},
   "outputs": [],
   "source": [
    "SNSD_A_T1_mydate = pd.DataFrame(SNSD_A_T1['mydate'])\n",
    "SNSD_B_T1_mydate = pd.DataFrame(SNSD_B_T1['mydate'])\n",
    "SNSD_A_T2_mydate = pd.DataFrame(SNSD_A_T2['mydate'])\n",
    "SNSD_B_T2_mydate = pd.DataFrame(SNSD_B_T2['mydate'])"
   ]
  },
  {
   "cell_type": "code",
   "execution_count": 19,
   "metadata": {},
   "outputs": [
    {
     "data": {
      "text/html": [
       "<div>\n",
       "<style scoped>\n",
       "    .dataframe tbody tr th:only-of-type {\n",
       "        vertical-align: middle;\n",
       "    }\n",
       "\n",
       "    .dataframe tbody tr th {\n",
       "        vertical-align: top;\n",
       "    }\n",
       "\n",
       "    .dataframe thead th {\n",
       "        text-align: right;\n",
       "    }\n",
       "</style>\n",
       "<table border=\"1\" class=\"dataframe\">\n",
       "  <thead>\n",
       "    <tr style=\"text-align: right;\">\n",
       "      <th></th>\n",
       "      <th>mydate</th>\n",
       "    </tr>\n",
       "  </thead>\n",
       "  <tbody>\n",
       "    <tr>\n",
       "      <th>0</th>\n",
       "      <td>2010-09-18 13:18:55</td>\n",
       "    </tr>\n",
       "    <tr>\n",
       "      <th>5</th>\n",
       "      <td>2010-09-18 13:23:48</td>\n",
       "    </tr>\n",
       "    <tr>\n",
       "      <th>6</th>\n",
       "      <td>2010-09-18 13:23:48</td>\n",
       "    </tr>\n",
       "    <tr>\n",
       "      <th>7</th>\n",
       "      <td>2010-09-18 13:23:48</td>\n",
       "    </tr>\n",
       "    <tr>\n",
       "      <th>16</th>\n",
       "      <td>2010-09-18 13:33:20</td>\n",
       "    </tr>\n",
       "  </tbody>\n",
       "</table>\n",
       "</div>"
      ],
      "text/plain": [
       "                mydate\n",
       "0  2010-09-18 13:18:55\n",
       "5  2010-09-18 13:23:48\n",
       "6  2010-09-18 13:23:48\n",
       "7  2010-09-18 13:23:48\n",
       "16 2010-09-18 13:33:20"
      ]
     },
     "execution_count": 19,
     "metadata": {},
     "output_type": "execute_result"
    }
   ],
   "source": [
    "SNSD_A_T1_mydate.head()"
   ]
  },
  {
   "cell_type": "code",
   "execution_count": 20,
   "metadata": {},
   "outputs": [],
   "source": [
    "#Defining ticket selling speed by combining the data for every 20min"
   ]
  },
  {
   "cell_type": "code",
   "execution_count": 21,
   "metadata": {},
   "outputs": [],
   "source": [
    "SNSD_A_T1_mydate[\"count\"] = 1\n",
    "SNSD_B_T1_mydate[\"count\"] = 1\n",
    "SNSD_A_T2_mydate[\"count\"] = 1\n",
    "SNSD_B_T2_mydate[\"count\"] = 1"
   ]
  },
  {
   "cell_type": "code",
   "execution_count": 22,
   "metadata": {},
   "outputs": [
    {
     "data": {
      "text/html": [
       "<div>\n",
       "<style scoped>\n",
       "    .dataframe tbody tr th:only-of-type {\n",
       "        vertical-align: middle;\n",
       "    }\n",
       "\n",
       "    .dataframe tbody tr th {\n",
       "        vertical-align: top;\n",
       "    }\n",
       "\n",
       "    .dataframe thead th {\n",
       "        text-align: right;\n",
       "    }\n",
       "</style>\n",
       "<table border=\"1\" class=\"dataframe\">\n",
       "  <thead>\n",
       "    <tr style=\"text-align: right;\">\n",
       "      <th></th>\n",
       "      <th>mydate</th>\n",
       "      <th>count</th>\n",
       "    </tr>\n",
       "  </thead>\n",
       "  <tbody>\n",
       "    <tr>\n",
       "      <th>0</th>\n",
       "      <td>2010-09-18 13:18:55</td>\n",
       "      <td>1</td>\n",
       "    </tr>\n",
       "    <tr>\n",
       "      <th>5</th>\n",
       "      <td>2010-09-18 13:23:48</td>\n",
       "      <td>1</td>\n",
       "    </tr>\n",
       "    <tr>\n",
       "      <th>6</th>\n",
       "      <td>2010-09-18 13:23:48</td>\n",
       "      <td>1</td>\n",
       "    </tr>\n",
       "    <tr>\n",
       "      <th>7</th>\n",
       "      <td>2010-09-18 13:23:48</td>\n",
       "      <td>1</td>\n",
       "    </tr>\n",
       "    <tr>\n",
       "      <th>16</th>\n",
       "      <td>2010-09-18 13:33:20</td>\n",
       "      <td>1</td>\n",
       "    </tr>\n",
       "  </tbody>\n",
       "</table>\n",
       "</div>"
      ],
      "text/plain": [
       "                mydate  count\n",
       "0  2010-09-18 13:18:55      1\n",
       "5  2010-09-18 13:23:48      1\n",
       "6  2010-09-18 13:23:48      1\n",
       "7  2010-09-18 13:23:48      1\n",
       "16 2010-09-18 13:33:20      1"
      ]
     },
     "execution_count": 22,
     "metadata": {},
     "output_type": "execute_result"
    }
   ],
   "source": [
    "SNSD_A_T1_mydate.head()"
   ]
  },
  {
   "cell_type": "code",
   "execution_count": 23,
   "metadata": {},
   "outputs": [],
   "source": [
    "SNSD_A_T1_mydate2 = pd.DataFrame(np.ones(len(SNSD_A_T1_mydate)), index = SNSD_A_T1_mydate[\"mydate\"])\n",
    "SNSD_B_T1_mydate2 = pd.DataFrame(np.ones(len(SNSD_B_T1_mydate)), index = SNSD_B_T1_mydate[\"mydate\"])\n",
    "SNSD_A_T2_mydate2 = pd.DataFrame(np.ones(len(SNSD_A_T2_mydate)), index = SNSD_A_T2_mydate[\"mydate\"])\n",
    "SNSD_B_T2_mydate2 = pd.DataFrame(np.ones(len(SNSD_B_T2_mydate)), index = SNSD_B_T2_mydate[\"mydate\"])"
   ]
  },
  {
   "cell_type": "code",
   "execution_count": 24,
   "metadata": {},
   "outputs": [],
   "source": [
    "a = SNSD_A_T1_mydate2.resample('20Min').sum()\n",
    "b = SNSD_B_T1_mydate2.resample('20Min').sum()\n",
    "c = SNSD_A_T2_mydate2.resample('20Min').sum()\n",
    "d = SNSD_B_T2_mydate2.resample('20Min').sum()"
   ]
  },
  {
   "cell_type": "code",
   "execution_count": 25,
   "metadata": {},
   "outputs": [],
   "source": [
    "e = SNSD_A_T1_mydate2.resample('1H').sum()\n",
    "f = SNSD_B_T1_mydate2.resample('1H').sum()\n",
    "g = SNSD_A_T2_mydate2.resample('1H').sum().mean()\n",
    "h = SNSD_B_T2_mydate2.resample('1H').sum().mean()"
   ]
  },
  {
   "cell_type": "code",
   "execution_count": 26,
   "metadata": {
    "scrolled": true
   },
   "outputs": [
    {
     "data": {
      "text/plain": [
       "247.25"
      ]
     },
     "execution_count": 26,
     "metadata": {},
     "output_type": "execute_result"
    }
   ],
   "source": [
    "e[0].sum()/4"
   ]
  },
  {
   "cell_type": "code",
   "execution_count": 27,
   "metadata": {},
   "outputs": [
    {
     "data": {
      "text/plain": [
       "63.75"
      ]
     },
     "execution_count": 27,
     "metadata": {},
     "output_type": "execute_result"
    }
   ],
   "source": [
    "f[0].sum()/4"
   ]
  },
  {
   "cell_type": "code",
   "execution_count": 28,
   "metadata": {},
   "outputs": [
    {
     "data": {
      "text/plain": [
       "0    723.0\n",
       "dtype: float64"
      ]
     },
     "execution_count": 28,
     "metadata": {},
     "output_type": "execute_result"
    }
   ],
   "source": [
    "g"
   ]
  },
  {
   "cell_type": "code",
   "execution_count": 29,
   "metadata": {},
   "outputs": [
    {
     "data": {
      "text/plain": [
       "0    222.5\n",
       "dtype: float64"
      ]
     },
     "execution_count": 29,
     "metadata": {},
     "output_type": "execute_result"
    }
   ],
   "source": [
    "h"
   ]
  },
  {
   "cell_type": "code",
   "execution_count": 30,
   "metadata": {},
   "outputs": [],
   "source": [
    "#plotting the data"
   ]
  },
  {
   "cell_type": "code",
   "execution_count": 38,
   "metadata": {},
   "outputs": [
    {
     "data": {
      "text/plain": [
       "Text(0.5,0,'Time (18 Sept 2010)')"
      ]
     },
     "execution_count": 38,
     "metadata": {},
     "output_type": "execute_result"
    },
    {
     "data": {
      "image/png": "[encoded data removed]",
      "text/plain": [
       "<matplotlib.figure.Figure at 0x1577af90>"
      ]
     },
     "metadata": {},
     "output_type": "display_data"
    }
   ],
   "source": [
    "plt.figure(figsize = (10,10))\n",
    "ax = plt.subplot(221)\n",
    "ax.plot(a)\n",
    "ax.set_xlim(pd.Timestamp('2010-09-18 12:00:00'), pd.Timestamp('2010-09-18 16:00:00'))\n",
    "ax.xaxis.set_major_formatter(mdates.DateFormatter(\"%H:%M\"))\n",
    "ax.set_title('Data A - T1', size = 20)\n",
    "ax.set_ylabel('Ticket count')\n",
    "ax.grid(True)\n",
    "\n",
    "ax = plt.subplot(222)\n",
    "ax.plot(b)\n",
    "ax.set_xlim(pd.Timestamp('2010-09-18 12:00:00'), pd.Timestamp('2010-09-18 16:00:00'))\n",
    "ax.xaxis.set_major_formatter(mdates.DateFormatter(\"%H:%M\"))\n",
    "ax.set_title('Data B - T1', size = 20)\n",
    "ax.grid(True)\n",
    "\n",
    "ax = plt.subplot(223)\n",
    "ax.plot(c)\n",
    "ax.set_xlim(pd.Timestamp('2010-09-18 16:00:00'), pd.Timestamp('2010-09-18 20:00:00'))\n",
    "ax.xaxis.set_major_formatter(mdates.DateFormatter(\"%H:%M\"))\n",
    "ax.set_title('Data A - T2', size = 20)\n",
    "ax.grid(True)\n",
    "ax.set_xlabel('Time (18 Sept 2010)')\n",
    "ax.set_ylabel('Ticket count')\n",
    "\n",
    "ax = plt.subplot(224)\n",
    "ax.plot(d)\n",
    "ax.set_xlim(pd.Timestamp('2010-09-18 16:00:00'), pd.Timestamp('2010-09-18 20:00:00'))\n",
    "ax.xaxis.set_major_formatter(mdates.DateFormatter(\"%H:%M\"))\n",
    "ax.set_title('Data B - T2', size = 20)\n",
    "ax.grid(True)\n",
    "ax.set_xlabel('Time (18 Sept 2010)')"
   ]
  },
  {
   "cell_type": "code",
   "execution_count": null,
   "metadata": {},
   "outputs": [],
   "source": []
  }
 ],
 "metadata": {
  "kernelspec": {
   "display_name": "Python 3",
   "language": "python",
   "name": "python3"
  },
  "language_info": {
   "codemirror_mode": {
    "name": "ipython",
    "version": 3
   },
   "file_extension": ".py",
   "mimetype": "text/x-python",
   "name": "python",
   "nbconvert_exporter": "python",
   "pygments_lexer": "ipython3",
   "version": "3.6.4"
  }
 },
 "nbformat": 4,
 "nbformat_minor": 2
}
